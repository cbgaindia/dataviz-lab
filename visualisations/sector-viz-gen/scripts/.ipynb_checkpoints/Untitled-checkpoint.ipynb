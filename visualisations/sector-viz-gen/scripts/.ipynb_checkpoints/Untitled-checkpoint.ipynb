{
 "cells": [
  {
   "cell_type": "code",
   "execution_count": 5,
   "metadata": {
    "collapsed": true
   },
   "outputs": [],
   "source": [
    "import xlrd\n",
    "import unicodecsv\n",
    "from os import listdir\n",
    "from os.path import isfile, join"
   ]
  },
  {
   "cell_type": "code",
   "execution_count": 6,
   "metadata": {
    "collapsed": true
   },
   "outputs": [],
   "source": [
    "def xls2csv (xls_filename, csv_filename):\n",
    "\n",
    "    wb = xlrd.open_workbook(xls_filename)\n",
    "    sh = wb.sheet_by_index(0)\n",
    "\n",
    "    fh = open(csv_filename,\"wb\")\n",
    "    csv_out = unicodecsv.writer(fh, encoding='utf-8')\n",
    "\n",
    "    for row_number in xrange (sh.nrows):\n",
    "        csv_out.writerow(sh.row_values(row_number))\n",
    "\n",
    "    fh.close()"
   ]
  },
  {
   "cell_type": "code",
   "execution_count": 7,
   "metadata": {
    "collapsed": false
   },
   "outputs": [],
   "source": [
    "path= \"../data/union_budget_tool_data/\"\n",
    "files = [f + \"/\" + sub_f for f in listdir(dir_path) for sub_f in listdir(dir_path+f) if sub_f.split(\".\")[1] == select_format]"
   ]
  },
  {
   "cell_type": "code",
   "execution_count": 14,
   "metadata": {
    "collapsed": false
   },
   "outputs": [],
   "source": [
    "for dataset in onlyfiles:\n",
    "     xls2csv(path+dataset, \"../data/csv/\" + dataset.split(\".\")[0]+\".csv\")"
   ]
  },
  {
   "cell_type": "code",
   "execution_count": null,
   "metadata": {
    "collapsed": true
   },
   "outputs": [],
   "source": []
  }
 ],
 "metadata": {
  "kernelspec": {
   "display_name": "Python 2",
   "language": "python",
   "name": "python2"
  },
  "language_info": {
   "codemirror_mode": {
    "name": "ipython",
    "version": 2
   },
   "file_extension": ".py",
   "mimetype": "text/x-python",
   "name": "python",
   "nbconvert_exporter": "python",
   "pygments_lexer": "ipython2",
   "version": "2.7.11"
  }
 },
 "nbformat": 4,
 "nbformat_minor": 0
}
