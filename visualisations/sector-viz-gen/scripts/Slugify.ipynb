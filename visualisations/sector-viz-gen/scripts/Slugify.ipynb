{
 "cells": [
  {
   "cell_type": "code",
   "execution_count": 22,
   "metadata": {
    "collapsed": true
   },
   "outputs": [],
   "source": [
    "import csv\n",
    "import unicodecsv\n",
    "from os import listdir\n",
    "from os.path import isfile, join\n",
    "import pandas as pd\n",
    "import re\n",
    "import numpy as np"
   ]
  },
  {
   "cell_type": "code",
   "execution_count": 57,
   "metadata": {
    "collapsed": false
   },
   "outputs": [],
   "source": [
    "path = \"../data/datasets/\"\n",
    "datasets = [f for f in listdir(path) if isfile(join(path, f))]"
   ]
  },
  {
   "cell_type": "code",
   "execution_count": 58,
   "metadata": {
    "collapsed": false
   },
   "outputs": [],
   "source": [
    "def slugify(dataset):\n",
    "    df=pd.read_csv(dataset)\n",
    "    if 'slug_name' not in df:\n",
    "        print \"Creating Slug Column\"\n",
    "        df[\"slug_name\"] = np.nan\n",
    "    for index, row in enumerate(df.iterrows()):\n",
    "        df[\"slug_name\"][index] = \"_\".join(row[1][\"index_name\"].split(\" \")).lower()\n",
    "        \n",
    "    df.to_csv(dataset, index=False)"
   ]
  },
  {
   "cell_type": "code",
   "execution_count": 59,
   "metadata": {
    "collapsed": false
   },
   "outputs": [
    {
     "name": "stdout",
     "output_type": "stream",
     "text": [
      "Slugifying - compo_outlays_adivasis.csv\n",
      "Slugifying Complete. \n",
      "\n",
      "Slugifying - climate_change.csv\n",
      "Slugifying Complete. \n",
      "\n",
      "Slugifying - compo_children_sector_budget.csv\n",
      "Slugifying Complete. \n",
      "\n",
      "Slugifying - women.csv\n",
      "Slugifying Complete. \n",
      "\n",
      "Slugifying - urban_poverty.csv\n",
      "Slugifying Complete. \n",
      "\n",
      "Slugifying - compo_misc_capital_recipts.csv\n",
      "Slugifying Complete. \n",
      "\n",
      "Slugifying - persons_with_disabilities.csv\n",
      "Slugifying Complete. \n",
      "\n",
      "Slugifying - religious_minorities.csv\n",
      "Slugifying Complete. \n",
      "\n",
      "Slugifying - agriculture.csv\n",
      "Slugifying Complete. \n",
      "\n",
      "Slugifying - compo_outlays_dalits.csv\n",
      "Slugifying Complete. \n",
      "\n",
      "Slugifying - total_expenditure_by_select_ministries.csv\n",
      "Slugifying Complete. \n",
      "\n",
      "Slugifying - social_security.csv\n",
      "Slugifying Complete. \n",
      "\n",
      "Slugifying - health.csv\n",
      "Slugifying Complete. \n",
      "\n",
      "Slugifying - compo_drinking_water.csv\n",
      "Slugifying Complete. \n",
      "\n",
      "Slugifying - transfer_of_resources_to_states.csv\n",
      "Slugifying Complete. \n",
      "\n",
      "Slugifying - education.csv\n",
      "Slugifying Complete. \n",
      "\n",
      "Slugifying - .~lock.total_cess_and_surcharges.csv#\n",
      "Slugifying Complete. \n",
      "\n",
      "Slugifying - dalits.csv\n",
      "Slugifying Complete. \n",
      "\n",
      "Slugifying - allocations_for_selective_missions_under_napcc.csv\n",
      "Slugifying Complete. \n",
      "\n",
      "Slugifying - allocations_for_schemes_under_mnre.csv\n",
      "Slugifying Complete. \n",
      "\n",
      "Slugifying - children.csv\n",
      "Slugifying Complete. \n",
      "\n",
      "Slugifying - allocations_for_ministry_of_new_renewable_energy.csv\n",
      "Slugifying Complete. \n",
      "\n",
      "Slugifying - budget_overview.csv\n",
      "Slugifying Complete. \n",
      "\n",
      "Slugifying - compo_mhrd.csv\n",
      "Slugifying Complete. \n",
      "\n",
      "Slugifying - tax_gdp.csv\n",
      "Slugifying Complete. \n",
      "\n",
      "Slugifying - nutrition.csv\n",
      "Slugifying Complete. \n",
      "\n",
      "Slugifying - outlays_for_nutrition_schemes.csv\n",
      "Slugifying Complete. \n",
      "\n",
      "Slugifying - adivasis.csv\n",
      "Slugifying Complete. \n",
      "\n",
      "Slugifying - drinking_water_and_sanitation.csv\n",
      "Slugifying Complete. \n",
      "\n",
      "Slugifying - allocations_for_schemes_related_to_climate_change_adaptation.csv\n",
      "Slugifying Complete. \n",
      "\n",
      "Slugifying - rural_development.csv\n",
      "Slugifying Complete. \n",
      "\n"
     ]
    },
    {
     "name": "stderr",
     "output_type": "stream",
     "text": [
      "/home/akshay/anaconda2/lib/python2.7/site-packages/ipykernel/__main__.py:10: SettingWithCopyWarning: \n",
      "A value is trying to be set on a copy of a slice from a DataFrame\n",
      "\n",
      "See the caveats in the documentation: http://pandas.pydata.org/pandas-docs/stable/indexing.html#indexing-view-versus-copy\n"
     ]
    }
   ],
   "source": [
    "for dataset in datasets:\n",
    "    print \"Slugifying - \" + dataset\n",
    "    slugify(path+dataset)\n",
    "    print \"Slugifying Complete. \\n\""
   ]
  },
  {
   "cell_type": "code",
   "execution_count": null,
   "metadata": {
    "collapsed": true
   },
   "outputs": [],
   "source": []
  },
  {
   "cell_type": "code",
   "execution_count": null,
   "metadata": {
    "collapsed": true
   },
   "outputs": [],
   "source": []
  }
 ],
 "metadata": {
  "kernelspec": {
   "display_name": "Python 2",
   "language": "python",
   "name": "python2"
  },
  "language_info": {
   "codemirror_mode": {
    "name": "ipython",
    "version": 2
   },
   "file_extension": ".py",
   "mimetype": "text/x-python",
   "name": "python",
   "nbconvert_exporter": "python",
   "pygments_lexer": "ipython2",
   "version": "2.7.11"
  }
 },
 "nbformat": 4,
 "nbformat_minor": 0
}
