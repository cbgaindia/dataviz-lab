{
 "cells": [
  {
   "cell_type": "code",
   "execution_count": 9,
   "metadata": {
    "collapsed": true
   },
   "outputs": [],
   "source": [
    "import csv\n",
    "import unicodecsv\n",
    "from os import listdir\n",
    "from os.path import isfile, join\n",
    "import pandas as pd\n",
    "import re"
   ]
  },
  {
   "cell_type": "code",
   "execution_count": 10,
   "metadata": {
    "collapsed": false
   },
   "outputs": [],
   "source": [
    "path = \"../data/datasets/\"\n",
    "datasets = [f for f in listdir(path) if isfile(join(path, f))]"
   ]
  },
  {
   "cell_type": "code",
   "execution_count": 28,
   "metadata": {
    "collapsed": false
   },
   "outputs": [],
   "source": [
    "def wrangle_dataset(dataset):\n",
    "    df = pd.read_csv(dataset, encoding=\"utf-8\")\n",
    "    column_regex = re.compile('\\d[0-9]{4}-\\d[0-9]{2}[A-Z()]*')\n",
    "    \n",
    "    for index, column_name in enumerate(df.columns[2:-2]):\n",
    "        if column_name[0].isdigit():\n",
    "            if re.match(r'[0-9]{4}-[0-9]{2}[A-Z()]{4}', column_name):\n",
    "                edit_col_name = \"\"\n",
    "                if column_name[9] == \"C\":\n",
    "                    edit_col_name = column_name[:9] + column_name[10:]\n",
    "                    edit_col_name =  edit_col_name[:7] + \" \" + edit_col_name[7:]\n",
    "                else:\n",
    "                    edit_col_name =  column_name[:7] + \" \" + column_name[7:]\n",
    "                df.rename(columns={column_name: edit_col_name}, inplace=True)\n",
    "                continue\n",
    "            elif re.match(r'[0-9]{4}-[0-9]{2}\\s[A-Z]{1}', column_name):\n",
    "                df.rename(columns={column_name : column_name.split(\" \")[0] + \" (\" + column_name.split(\" \")[1] + \")\"},  inplace=True)\n",
    "                continue\n",
    "            elif re.match(r'[0-9]{4}-[0-9]{2}', column_name) and len(column_name) == 7:\n",
    "                df.rename(columns={column_name : column_name + \" (A)\"}, inplace=True)\n",
    "                continue\n",
    "            elif re.match(r'[0-9]{4}-[0-9]{2}\\s[A-Z()]{1}', column_name):\n",
    "                continue\n",
    "            else:\n",
    "                print \">>>>>>>> Issue\"   \n",
    "                \n",
    "    df.to_csv(dataset, index = False, encoding=\"utf-8\")"
   ]
  },
  {
   "cell_type": "code",
   "execution_count": 29,
   "metadata": {
    "collapsed": false
   },
   "outputs": [
    {
     "name": "stdout",
     "output_type": "stream",
     "text": [
      "Parsing dataset - compo_outlays_adivasis.csv\n",
      "Parsing Ends\n",
      "Parsing dataset - climate_change.csv\n",
      "Parsing Ends\n",
      "Parsing dataset - compo_children_sector_budget.csv\n",
      "Parsing Ends\n",
      "Parsing dataset - women.csv\n",
      "Parsing Ends\n",
      "Parsing dataset - urban_poverty.csv\n",
      "Parsing Ends\n",
      "Parsing dataset - compo_misc_capital_recipts.csv\n",
      "Parsing Ends\n",
      "Parsing dataset - persons_with_disabilities.csv\n",
      "Parsing Ends\n",
      "Parsing dataset - religious_minorities.csv\n",
      "Parsing Ends\n",
      "Parsing dataset - agriculture.csv\n",
      ">>>>>>>> Issue\n",
      "Parsing Ends\n",
      "Parsing dataset - compo_outlays_dalits.csv\n",
      "Parsing Ends\n",
      "Parsing dataset - total_expenditure_by_select_ministries.csv\n",
      "Parsing Ends\n",
      "Parsing dataset - social_security.csv\n",
      "Parsing Ends\n",
      "Parsing dataset - health.csv\n",
      "Parsing Ends\n",
      "Parsing dataset - total_cess_and_surcharges.csv\n",
      "Parsing Ends\n",
      "Parsing dataset - compo_health.csv\n",
      "Parsing Ends\n",
      "Parsing dataset - compo_drinking_water.csv\n",
      "Parsing Ends\n",
      "Parsing dataset - transfer_of_resources_to_states.csv\n",
      "Parsing Ends\n",
      "Parsing dataset - compo_social_assistance.csv\n",
      "Parsing Ends\n",
      "Parsing dataset - education.csv\n",
      "Parsing Ends\n",
      "Parsing dataset - compo_agri.csv\n",
      ">>>>>>>> Issue\n",
      "Parsing Ends\n",
      "Parsing dataset - dalits.csv\n",
      "Parsing Ends\n",
      "Parsing dataset - allocations_for_selective_missions_under_napcc.csv\n",
      "Parsing Ends\n",
      "Parsing dataset - allocations_for_schemes_under_mnre.csv\n",
      "Parsing Ends\n",
      "Parsing dataset - .~lock.health.csv#\n",
      "Parsing Ends\n",
      "Parsing dataset - children.csv\n",
      "Parsing Ends\n",
      "Parsing dataset - allocations_for_ministry_of_new_renewable_energy.csv\n",
      "Parsing Ends\n",
      "Parsing dataset - budget_overview.csv\n",
      "Parsing Ends\n",
      "Parsing dataset - compo_mhrd.csv\n",
      "Parsing Ends\n",
      "Parsing dataset - tax_gdp.csv\n",
      "Parsing Ends\n",
      "Parsing dataset - nutrition.csv\n",
      "Parsing Ends\n",
      "Parsing dataset - outlays_for_nutrition_schemes.csv\n",
      "Parsing Ends\n",
      "Parsing dataset - adivasis.csv\n",
      "Parsing Ends\n",
      "Parsing dataset - drinking_water_and_sanitation.csv\n",
      "Parsing Ends\n",
      "Parsing dataset - compo_rural_schemes.csv\n",
      "Parsing Ends\n",
      "Parsing dataset - allocations_for_schemes_related_to_climate_change_adaptation.csv\n",
      "Parsing Ends\n",
      "Parsing dataset - rural_development.csv\n",
      "Parsing Ends\n"
     ]
    }
   ],
   "source": [
    "for dataset in datasets:\n",
    "    print \"Parsing dataset - \" + dataset\n",
    "    wrangle_dataset(path+dataset)\n",
    "    print \"Parsing Ends\""
   ]
  },
  {
   "cell_type": "code",
   "execution_count": null,
   "metadata": {
    "collapsed": true
   },
   "outputs": [],
   "source": []
  }
 ],
 "metadata": {
  "kernelspec": {
   "display_name": "Python 2",
   "language": "python",
   "name": "python2"
  },
  "language_info": {
   "codemirror_mode": {
    "name": "ipython",
    "version": 2
   },
   "file_extension": ".py",
   "mimetype": "text/x-python",
   "name": "python",
   "nbconvert_exporter": "python",
   "pygments_lexer": "ipython2",
   "version": "2.7.11"
  }
 },
 "nbformat": 4,
 "nbformat_minor": 0
}
