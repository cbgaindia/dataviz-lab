{
 "cells": [
  {
   "cell_type": "code",
   "execution_count": 5,
   "metadata": {
    "collapsed": true
   },
   "outputs": [],
   "source": [
    "import xlrd\n",
    "import unicodecsv\n",
    "from os import listdir\n",
    "from os.path import isfile, join"
   ]
  },
  {
   "cell_type": "code",
   "execution_count": 6,
   "metadata": {
    "collapsed": true
   },
   "outputs": [],
   "source": [
    "def xls2csv (xls_filename, csv_filename):\n",
    "\n",
    "    wb = xlrd.open_workbook(xls_filename)\n",
    "    sh = wb.sheet_by_index(0)\n",
    "\n",
    "    fh = open(csv_filename,\"wb\")\n",
    "    csv_out = unicodecsv.writer(fh, encoding='utf-8')\n",
    "\n",
    "    for row_number in xrange (sh.nrows):\n",
    "        csv_out.writerow(sh.row_values(row_number))\n",
    "\n",
    "    fh.close()"
   ]
  },
  {
   "cell_type": "code",
   "execution_count": 25,
   "metadata": {
    "collapsed": false
   },
   "outputs": [],
   "source": [
    "dir_path= \"../data/union_budget_tool_data/\"\n",
    "select_format = \"xlsx\"\n",
    "            \n",
    "files = [f + \"/\" + sub_f for f in listdir(dir_path) for sub_f in listdir(dir_path+f) if sub_f.split(\".\")[2] == select_format]"
   ]
  },
  {
   "cell_type": "code",
   "execution_count": 41,
   "metadata": {
    "collapsed": false
   },
   "outputs": [],
   "source": [
    "dest_path = \"../data/datasets/\"\n",
    "for dataset in files:\n",
    "    xls2csv(path+dataset, dest_path + dataset.split(\".\")[0].split(\"/\")[1] +\".csv\")"
   ]
  },
  {
   "cell_type": "code",
   "execution_count": null,
   "metadata": {
    "collapsed": true
   },
   "outputs": [],
   "source": []
  }
 ],
 "metadata": {
  "kernelspec": {
   "display_name": "Python 2",
   "language": "python",
   "name": "python2"
  },
  "language_info": {
   "codemirror_mode": {
    "name": "ipython",
    "version": 2
   },
   "file_extension": ".py",
   "mimetype": "text/x-python",
   "name": "python",
   "nbconvert_exporter": "python",
   "pygments_lexer": "ipython2",
   "version": "2.7.11"
  }
 },
 "nbformat": 4,
 "nbformat_minor": 0
}
