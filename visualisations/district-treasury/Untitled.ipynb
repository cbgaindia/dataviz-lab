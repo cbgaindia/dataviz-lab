{
 "cells": [
  {
   "cell_type": "code",
   "execution_count": 68,
   "metadata": {},
   "outputs": [],
   "source": [
    "import pandas as pd\n",
    "import seaborn as sns\n",
    "import matplotlib.pyplot as plt\n",
    "\n",
    "%matplotlib inline\n",
    "plt.rcParams[\"figure.figsize\"] = (20,4)"
   ]
  },
  {
   "cell_type": "code",
   "execution_count": 69,
   "metadata": {},
   "outputs": [],
   "source": [
    "df = pd.read_csv(\"./Balasore District Treasury.csv\")"
   ]
  },
  {
   "cell_type": "code",
   "execution_count": 70,
   "metadata": {},
   "outputs": [
    {
     "data": {
      "text/html": [
       "<div>\n",
       "<style scoped>\n",
       "    .dataframe tbody tr th:only-of-type {\n",
       "        vertical-align: middle;\n",
       "    }\n",
       "\n",
       "    .dataframe tbody tr th {\n",
       "        vertical-align: top;\n",
       "    }\n",
       "\n",
       "    .dataframe thead th {\n",
       "        text-align: right;\n",
       "    }\n",
       "</style>\n",
       "<table border=\"1\" class=\"dataframe\">\n",
       "  <thead>\n",
       "    <tr style=\"text-align: right;\">\n",
       "      <th></th>\n",
       "      <th>DDO Code</th>\n",
       "      <th>DDO Name</th>\n",
       "      <th>Budget Code</th>\n",
       "      <th>Allotment Serial No</th>\n",
       "      <th>Allotment Date</th>\n",
       "      <th>Allotment ID</th>\n",
       "      <th>Alloted Amount</th>\n",
       "      <th>Expenditure</th>\n",
       "      <th>Surrender/Withdrwal</th>\n",
       "      <th>Deduct Amount</th>\n",
       "      <th>Balance</th>\n",
       "    </tr>\n",
       "  </thead>\n",
       "  <tbody>\n",
       "    <tr>\n",
       "      <th>0</th>\n",
       "      <td>BLSHOM002</td>\n",
       "      <td>Deputy Inspector General of Police(Eastern Ran...</td>\n",
       "      <td>01-2055-00-001-0534-02003-000-11-1-0</td>\n",
       "      <td>1</td>\n",
       "      <td>01-Mar-18</td>\n",
       "      <td>5548</td>\n",
       "      <td>3000</td>\n",
       "      <td>0</td>\n",
       "      <td>0</td>\n",
       "      <td>0</td>\n",
       "      <td>3000</td>\n",
       "    </tr>\n",
       "    <tr>\n",
       "      <th>1</th>\n",
       "      <td>BLSHOM008</td>\n",
       "      <td>Superintendent of Police Balasore</td>\n",
       "      <td>01-2055-00-109-0321-09001-000-11-1-0</td>\n",
       "      <td>1</td>\n",
       "      <td>01-Mar-18</td>\n",
       "      <td>5547</td>\n",
       "      <td>61868</td>\n",
       "      <td>0</td>\n",
       "      <td>0</td>\n",
       "      <td>0</td>\n",
       "      <td>61868</td>\n",
       "    </tr>\n",
       "    <tr>\n",
       "      <th>2</th>\n",
       "      <td>BLSHOM008</td>\n",
       "      <td>Superintendent of Police Balasore</td>\n",
       "      <td>01-2055-00-109-0321-01003-136-11-1-0</td>\n",
       "      <td>1</td>\n",
       "      <td>01-Mar-18</td>\n",
       "      <td>5546</td>\n",
       "      <td>9800000</td>\n",
       "      <td>5553483</td>\n",
       "      <td>0</td>\n",
       "      <td>0</td>\n",
       "      <td>4246517</td>\n",
       "    </tr>\n",
       "    <tr>\n",
       "      <th>3</th>\n",
       "      <td>BLSEDN003</td>\n",
       "      <td>District Education Officer, Balasore</td>\n",
       "      <td>10-2202-02-101-1791-01003-156-11-1-0</td>\n",
       "      <td>1</td>\n",
       "      <td>28-Feb-18</td>\n",
       "      <td>5517</td>\n",
       "      <td>374012</td>\n",
       "      <td>0</td>\n",
       "      <td>0</td>\n",
       "      <td>0</td>\n",
       "      <td>374012</td>\n",
       "    </tr>\n",
       "    <tr>\n",
       "      <th>4</th>\n",
       "      <td>BLSEDN003</td>\n",
       "      <td>District Education Officer, Balasore</td>\n",
       "      <td>10-2202-02-110-0976-41048-921-11-1-0</td>\n",
       "      <td>1</td>\n",
       "      <td>28-Feb-18</td>\n",
       "      <td>5505</td>\n",
       "      <td>28251814</td>\n",
       "      <td>0</td>\n",
       "      <td>0</td>\n",
       "      <td>0</td>\n",
       "      <td>28251814</td>\n",
       "    </tr>\n",
       "  </tbody>\n",
       "</table>\n",
       "</div>"
      ],
      "text/plain": [
       "    DDO Code                                           DDO Name  \\\n",
       "0  BLSHOM002  Deputy Inspector General of Police(Eastern Ran...   \n",
       "1  BLSHOM008                  Superintendent of Police Balasore   \n",
       "2  BLSHOM008                  Superintendent of Police Balasore   \n",
       "3  BLSEDN003               District Education Officer, Balasore   \n",
       "4  BLSEDN003               District Education Officer, Balasore   \n",
       "\n",
       "                            Budget Code  Allotment Serial No Allotment Date  \\\n",
       "0  01-2055-00-001-0534-02003-000-11-1-0                    1      01-Mar-18   \n",
       "1  01-2055-00-109-0321-09001-000-11-1-0                    1      01-Mar-18   \n",
       "2  01-2055-00-109-0321-01003-136-11-1-0                    1      01-Mar-18   \n",
       "3  10-2202-02-101-1791-01003-156-11-1-0                    1      28-Feb-18   \n",
       "4  10-2202-02-110-0976-41048-921-11-1-0                    1      28-Feb-18   \n",
       "\n",
       "   Allotment ID  Alloted Amount  Expenditure  Surrender/Withdrwal  \\\n",
       "0          5548            3000            0                    0   \n",
       "1          5547           61868            0                    0   \n",
       "2          5546         9800000      5553483                    0   \n",
       "3          5517          374012            0                    0   \n",
       "4          5505        28251814            0                    0   \n",
       "\n",
       "   Deduct Amount   Balance  \n",
       "0              0      3000  \n",
       "1              0     61868  \n",
       "2              0   4246517  \n",
       "3              0    374012  \n",
       "4              0  28251814  "
      ]
     },
     "execution_count": 70,
     "metadata": {},
     "output_type": "execute_result"
    }
   ],
   "source": [
    "df.head()"
   ]
  },
  {
   "cell_type": "code",
   "execution_count": 71,
   "metadata": {},
   "outputs": [
    {
     "data": {
      "text/plain": [
       "Index([u'DDO Code', u'DDO Name', u'Budget Code', u'Allotment Serial No',\n",
       "       u'Allotment Date', u'Allotment ID', u'Alloted Amount', u'Expenditure',\n",
       "       u'Surrender/Withdrwal', u'Deduct Amount', u'Balance'],\n",
       "      dtype='object')"
      ]
     },
     "execution_count": 71,
     "metadata": {},
     "output_type": "execute_result"
    }
   ],
   "source": [
    "df.columns"
   ]
  },
  {
   "cell_type": "code",
   "execution_count": 72,
   "metadata": {},
   "outputs": [],
   "source": [
    "df[\"BudgetCode-MajorCode\"] = df[\"Budget Code\"].str.slice(0,2).astype(str)"
   ]
  },
  {
   "cell_type": "code",
   "execution_count": 73,
   "metadata": {},
   "outputs": [
    {
     "data": {
      "text/html": [
       "<div>\n",
       "<style scoped>\n",
       "    .dataframe tbody tr th:only-of-type {\n",
       "        vertical-align: middle;\n",
       "    }\n",
       "\n",
       "    .dataframe tbody tr th {\n",
       "        vertical-align: top;\n",
       "    }\n",
       "\n",
       "    .dataframe thead th {\n",
       "        text-align: right;\n",
       "    }\n",
       "</style>\n",
       "<table border=\"1\" class=\"dataframe\">\n",
       "  <thead>\n",
       "    <tr style=\"text-align: right;\">\n",
       "      <th></th>\n",
       "      <th>DDO Code</th>\n",
       "      <th>DDO Name</th>\n",
       "      <th>Budget Code</th>\n",
       "      <th>Allotment Serial No</th>\n",
       "      <th>Allotment Date</th>\n",
       "      <th>Allotment ID</th>\n",
       "      <th>Alloted Amount</th>\n",
       "      <th>Expenditure</th>\n",
       "      <th>Surrender/Withdrwal</th>\n",
       "      <th>Deduct Amount</th>\n",
       "      <th>Balance</th>\n",
       "      <th>BudgetCode-MajorCode</th>\n",
       "    </tr>\n",
       "  </thead>\n",
       "  <tbody>\n",
       "    <tr>\n",
       "      <th>0</th>\n",
       "      <td>BLSHOM002</td>\n",
       "      <td>Deputy Inspector General of Police(Eastern Ran...</td>\n",
       "      <td>01-2055-00-001-0534-02003-000-11-1-0</td>\n",
       "      <td>1</td>\n",
       "      <td>01-Mar-18</td>\n",
       "      <td>5548</td>\n",
       "      <td>3000</td>\n",
       "      <td>0</td>\n",
       "      <td>0</td>\n",
       "      <td>0</td>\n",
       "      <td>3000</td>\n",
       "      <td>01</td>\n",
       "    </tr>\n",
       "    <tr>\n",
       "      <th>1</th>\n",
       "      <td>BLSHOM008</td>\n",
       "      <td>Superintendent of Police Balasore</td>\n",
       "      <td>01-2055-00-109-0321-09001-000-11-1-0</td>\n",
       "      <td>1</td>\n",
       "      <td>01-Mar-18</td>\n",
       "      <td>5547</td>\n",
       "      <td>61868</td>\n",
       "      <td>0</td>\n",
       "      <td>0</td>\n",
       "      <td>0</td>\n",
       "      <td>61868</td>\n",
       "      <td>01</td>\n",
       "    </tr>\n",
       "  </tbody>\n",
       "</table>\n",
       "</div>"
      ],
      "text/plain": [
       "    DDO Code                                           DDO Name  \\\n",
       "0  BLSHOM002  Deputy Inspector General of Police(Eastern Ran...   \n",
       "1  BLSHOM008                  Superintendent of Police Balasore   \n",
       "\n",
       "                            Budget Code  Allotment Serial No Allotment Date  \\\n",
       "0  01-2055-00-001-0534-02003-000-11-1-0                    1      01-Mar-18   \n",
       "1  01-2055-00-109-0321-09001-000-11-1-0                    1      01-Mar-18   \n",
       "\n",
       "   Allotment ID  Alloted Amount  Expenditure  Surrender/Withdrwal  \\\n",
       "0          5548            3000            0                    0   \n",
       "1          5547           61868            0                    0   \n",
       "\n",
       "   Deduct Amount  Balance BudgetCode-MajorCode  \n",
       "0              0     3000                   01  \n",
       "1              0    61868                   01  "
      ]
     },
     "execution_count": 73,
     "metadata": {},
     "output_type": "execute_result"
    }
   ],
   "source": [
    "df.head(2)"
   ]
  },
  {
   "cell_type": "code",
   "execution_count": 85,
   "metadata": {},
   "outputs": [
    {
     "data": {
      "text/plain": [
       "BudgetCode-MajorCode    object\n",
       "Alloted Amount           int64\n",
       "Expenditure              int64\n",
       "dtype: object"
      ]
     },
     "execution_count": 85,
     "metadata": {},
     "output_type": "execute_result"
    }
   ],
   "source": [
    "df_Major_code = df.groupby([\"BudgetCode-MajorCode\"])[\"Alloted Amount\", \"Expenditure\"].sum()\n",
    "df_Major_code.reset_index(level=0, inplace=True)\n",
    "df_Major_code.sort_values(\"Alloted Amount\", ascending=False, inplace=True)\n",
    "df_Major_code.dtypes\n"
   ]
  },
  {
   "cell_type": "code",
   "execution_count": 86,
   "metadata": {},
   "outputs": [
    {
     "data": {
      "image/png": "[encoded data removed]",
      "text/plain": [
       "<matplotlib.figure.Figure at 0x7f8a5ba1d4d0>"
      ]
     },
     "metadata": {},
     "output_type": "display_data"
    }
   ],
   "source": [
    "# Initialize the matplotlib figure\n",
    "f, ax = plt.subplots(figsize=(15, 20))\n",
    "sns.set(style=\"whitegrid\")\n",
    "\n",
    "sns.set_color_codes(\"pastel\")\n",
    "sns.barplot(x=\"Alloted Amount\", y=\"BudgetCode-MajorCode\", data=df_Major_code,\n",
    "            label=\"Alloted Amount\", color=\"b\" , orient=\"h\")\n",
    "\n",
    "sns.set_color_codes(\"muted\")\n",
    "sns.barplot(x=\"Expenditure\", y=\"BudgetCode-MajorCode\", data=df_Major_code,\n",
    "            label=\"Expenditure\", color=\"b\", orient=\"h\")\n",
    "\n",
    "# Add a legend and informative axis label\n",
    "ax.legend(ncol=2, loc=\"lower right\", frameon=True)\n",
    "ax.set( ylabel=\"DDO Name\",\n",
    "       xlabel=\"Allotment vs Expenditure\")\n",
    "sns.despine(left=True, bottom=True)"
   ]
  },
  {
   "cell_type": "code",
   "execution_count": null,
   "metadata": {},
   "outputs": [],
   "source": []
  },
  {
   "cell_type": "code",
   "execution_count": null,
   "metadata": {},
   "outputs": [],
   "source": []
  }
 ],
 "metadata": {
  "kernelspec": {
   "display_name": "Python 2",
   "language": "python",
   "name": "python2"
  },
  "language_info": {
   "codemirror_mode": {
    "name": "ipython",
    "version": 2
   },
   "file_extension": ".py",
   "mimetype": "text/x-python",
   "name": "python",
   "nbconvert_exporter": "python",
   "pygments_lexer": "ipython2",
   "version": "2.7.15"
  }
 },
 "nbformat": 4,
 "nbformat_minor": 2
}
